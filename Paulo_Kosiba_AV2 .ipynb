{
 "cells": [
  {
   "cell_type": "markdown",
   "metadata": {},
   "source": [
    "## 2 2020 SIN176 A\n",
    "# PROGRAMAÇÃO DE COMPUTADORES PARA GESTÃO DA INFORMAÇÃO\n",
    "## AV2 - Manipulação de Banco de Dados - _Deadline_: 02/07/2021 23h00\n",
    "---\n",
    "### Instruções\n",
    "Este Jupyter Notebook apresenta as 5 questões que enunciam problemas. As respostas deverão ser trechos de **código Python** que solucionem as situações enunciadas.\n",
    "\n",
    "Cada questão vale 20 pontos, com a avaliação total limitada a **100 pontos**.\n",
    "\n",
    "As respostas devem ser escritas **diretamente neste Jupyter Notebook**, que deverá ser enviado em resposta à atividade de avaliação no Moodle.\n",
    "\n",
    "**Salve o arquivo Jupyter com seu nome para que possa ficar bem identificado.** Veja os comentários no espaço da avaliação dentro do UFPR Virtual.\n",
    "\n",
    "## Boa prova para tod@s!!!\n"
   ]
  },
  {
   "cell_type": "markdown",
   "metadata": {},
   "source": [
    "### Questão 1\n",
    "Escreva uma função Python chamada `agenda_instalar()` que executa as sentenças SQL colocadas na célula a seguir.\n",
    "Estas sentenças criarão a infraestrutura de armazenagem de uma agenda pessoal na qual se registram compromissos\n",
    "diários (chamados genericamente de **eventos**).\n",
    "\n",
    "O nome do arquivo de banco de dados a ser utilizado está atribuído à variável `agenda_db` e deverá ser utilizado na resposta. Após a função ser declarada, a mesma deverá ser **chamada**, de forma a realizar a criação do banco de dados.\n",
    "\n",
    "Como esperado, deve ser gerado um arquivo chamado `agenda.db` no diretório onde estiver seu arquivo do Jupyter. Para verificar se o arquivo foi criado corretamente, use o DB Browser ou uma série de comandos que foram publicados no portal UFPR Virtual (avisos - Dicas BD).\n",
    "\n",
    "1. Dica 01. Você também pode usar aqueles comandos que verificam se já existe o BD e, caso exista, ele remove/apaga e cria outro automaticamente. CUIDADO. Você pode querer usar isso pois, por exemplo, a Questão 2 faz inserts em tabelas do banco e caso você já tenha executado a Questão 2 uma vez (por quaisquer razões) e depois mude algo e vá passar por ela novamente, dará um erro (pois os inserts já foram feitos)."
   ]
  },
  {
   "cell_type": "code",
   "execution_count": 6,
   "metadata": {},
   "outputs": [
    {
     "name": "stdout",
     "output_type": "stream",
     "text": [
      "Tabela criada dentro do arquivo 'agenda_db'\n"
     ]
    }
   ],
   "source": [
    "# Nome do arquivo do SQLite: NÃO DEVE ser alterado\n",
    "agenda_db = 'agenda.db'\n",
    "# Sentenças para criação do BD\n",
    "sql_create_evento = '''\n",
    "CREATE TABLE IF NOT EXISTS evento (\n",
    "id INTEGER PRIMARY KEY AUTOINCREMENT NOT NULL,\n",
    "data TEXT(10) NOT NULL,\n",
    "hora TEXT(5) NOT NULL,\n",
    "duracao_min INTEGER NOT NULL,\n",
    "descricao TEXT(128) NOT NULL,\n",
    "UNIQUE (data,hora)\n",
    ")\n",
    "'''\n",
    "# Escreva a resposta da questão 1 NESTA célula, nas linhas abaixo\n",
    "import os\n",
    "os.remove(agenda_db) if os.path.exists(agenda_db) else None\n",
    "# Importando o módulo de acesso ao SQLite\n",
    "import sqlite3 as sql\n",
    "# Cria uma conexão com o banco de dados. \n",
    "# Se o banco de dados não existir, ele é criado neste momento.\n",
    "con = sql.connect(agenda_db)\n",
    "cur = con.cursor()\n",
    "def agenda_instalar(agenda_db):\n",
    "   \n",
    "    cur.execute(sql_create_evento)\n",
    "    print(\"Tabela criada dentro do arquivo 'agenda_db'\")\n",
    "    con.close\n",
    "    \n",
    "agenda_instalar(agenda_db)"
   ]
  },
  {
   "cell_type": "markdown",
   "metadata": {},
   "source": [
    "### Questão 2\n",
    "Escreva uma função Python chamada `agenda_inserir_evento()`, que será usada para adicionar eventos na agenda, e deverá\n",
    "receber quatro parâmetros:\n",
    "1. `data`: a data do evento, sendo um `string` no formato `YYYY-MM-DD`, onde `YYYY`=ano, `MM`=mês e `DD`=dia\n",
    "2. `hora`: a hora do evento, sendo um `string` no formato `HH:MM`, onde `HH`=hora em forma 24h, `MM`=minutos\n",
    "3. `duracao_min`: número inteiro que define a duração do evento e minutos\n",
    "4. `descricao`: a descrição do evento\n",
    "\n",
    "A inclusão do evento no banco de dados deve ser feita por meio da sentença presente na variável `sql_insert_evento`.\n",
    "\n",
    "Após a declaração a função deverá ser chamada diversas vezes para registrar ao menos 3 eventos diferentes por dia,\n",
    "para três dias diferentes, sendo **hoje** o primeiro dos dias.\n",
    "\n",
    "Verifique se os comandos foram realizados corretamente. Caso queira até pode colocar comandos `SELECT` para exibir os valores."
   ]
  },
  {
   "cell_type": "code",
   "execution_count": 7,
   "metadata": {},
   "outputs": [
    {
     "name": "stdout",
     "output_type": "stream",
     "text": [
      "Registros inseridos com sucesso\n"
     ]
    }
   ],
   "source": [
    "# Sentenças para inserção no BD\n",
    "sql_insert_evento = '''\n",
    "INSERT INTO evento (id, data, hora, duracao_min, descricao)\n",
    "VALUES (NULL, ?, ?, ?, ?)\n",
    "'''\n",
    "\n",
    "\n",
    "# Escreva a resposta da questão 2 NESTA célula, nas linhas abaixo\n",
    "eventos = [\n",
    "    (\"2021-12-25\", \"23:59\", 60, \"Natal com a familia\"),\n",
    "    (\"2022-01-01\", \"23:59\", 1440, \"Ano novo\"),\n",
    "    (\"2022-02-20\", \"00:00\", 1440, \"Aniversário\"),\n",
    "]\n",
    "# Percorrendo cada  registro(i) no conjunto de registros(evento)\n",
    "def agenda_inserir_evento(eventos):\n",
    "    for  item in eventos:\n",
    "        \n",
    "        cur.execute(sql_insert_evento,item)\n",
    "        con.commit()\n",
    "    print(\"Registros inseridos com sucesso\")\n",
    "# gravando os registros inseridos\n",
    "\n",
    "agenda_inserir_evento(eventos)\n"
   ]
  },
  {
   "cell_type": "markdown",
   "metadata": {},
   "source": [
    "### Questão 3\n",
    "Escreva uma função Python chamada `agenda_recuperar_eventos()` que receba um parâmetro com a data de interesse e\n",
    "retorne uma lista com as tuplas de todos os eventos registrados para a data passada. A sentença `sql_select_evento_data`\n",
    "deverá ser utilizada para a recuperação.\n",
    "\n",
    "Após declarar a função faça algumas chamadas à função `agenda_eventos()` passando algumas datas para mostrar a programação\n",
    "de alguns dias."
   ]
  },
  {
   "cell_type": "code",
   "execution_count": 8,
   "metadata": {},
   "outputs": [
    {
     "name": "stdout",
     "output_type": "stream",
     "text": [
      "2021-12-25:\n",
      "  * 23:59 ( 60 minutos) Natal com a familia\n"
     ]
    }
   ],
   "source": [
    "# Sentenças para seleção no BD\n",
    "sql_select_evento_data = '''\n",
    "SELECT id, data, hora, duracao_min, descricao FROM evento\n",
    "WHERE data=?\n",
    "ORDER BY hora\n",
    "'''\n",
    "#agenda_recuperar_eventos()\n",
    "\n",
    "\n",
    "# Funções de apoio\n",
    "def agenda_eventos(data):\n",
    "    eventos = agenda_recuperar_eventos(data)\n",
    "    print(f'{data}:')\n",
    "    if len(eventos)==0:\n",
    "        print('NADA PROGRAMADO!')\n",
    "    else:\n",
    "        for evento in eventos:\n",
    "            print(f'  * {evento[2]} ({evento[3]:3} minutos) {evento[4]}')\n",
    "\n",
    "\n",
    "# Escreva a resposta da questão 3 NESTA célula, nas linhas abaixo\n",
    "#criando conbexão coma arquivo\n",
    "lista = \"2021-12-25\"\n",
    "def agenda_recuperar_eventos(data):\n",
    "    cur.execute(sql_select_evento_data, [data])\n",
    "    rows = cur.fetchall()\n",
    "    return rows \n",
    "agenda_eventos(lista)"
   ]
  },
  {
   "cell_type": "markdown",
   "metadata": {},
   "source": [
    "### Questão 4\n",
    "Escreva uma função Python chamada `agenda_remover_evento()` que receba um parâmetro com o id do evento e o remova da\n",
    "agenda. A sentença `sql_delete_evento` deverá ser utilizada para a exclusão.\n",
    "\n",
    "Após declarar a função faça algumas chamadas **(ao menos duas)** à função `agenda_remover_evento()` a fim de remover tais eventos.\n",
    " 1. Dica: para facilitar e ficar mais claro para você e para nós, procure imprimir os valores da agenda antes (usando talvez o próprio `agenda_recuperar_eventos()`). Depois chame a função para remover alguns eventos e depois imprima novamente os eventos (a fim de verificar se realmente foram removidos)."
   ]
  },
  {
   "cell_type": "code",
   "execution_count": 9,
   "metadata": {},
   "outputs": [
    {
     "name": "stdout",
     "output_type": "stream",
     "text": [
      "Id:               1 Data: 2021-12-25 Hora: 23:59 Duração: 60 Descrição: Natal com a familia\n",
      "Id:               2 Data: 2022-01-01 Hora: 23:59 Duração: 1440 Descrição: Ano novo\n",
      "Id:               3 Data: 2022-02-20 Hora: 00:00 Duração: 1440 Descrição: Aniversário\n",
      " Digite o Id do evento que quer remover 5\n",
      "Id não encontrada.\n",
      "Deseja remover mais eventos? Digite sim ou nao : nao\n",
      "Id:              1 Data: 2021-12-25 Hora: 23:59 Duração: 60 Descrição: Natal com a familia\n",
      "Id:              2 Data: 2022-01-01 Hora: 23:59 Duração: 1440 Descrição: Ano novo\n",
      "Id:              3 Data: 2022-02-20 Hora: 00:00 Duração: 1440 Descrição: Aniversário\n"
     ]
    }
   ],
   "source": [
    "# Sentenças para exclusão no BD\n",
    "sql_delete_evento = '''\n",
    "DELETE FROM evento\n",
    "WHERE id=?\n",
    "'''\n",
    "\n",
    "\n",
    "# Escreva a resposta da questão 4 NESTA célula, nas linhas abaixo\n",
    "\n",
    "cur.execute('''select* from evento''')\n",
    "for resultado in cur.fetchall():\n",
    "    print(\"Id: {0:15} Data: {1:10} Hora: {2:5} Duração: {3} Descrição: {4}\".format(*resultado))\n",
    "def agenda_remover_evento(id):\n",
    "    con = sql.connect(agenda_db)#criando conexão com documento\n",
    "    cur = con.cursor()#criando cursor para percorrer banco\n",
    "    cur.execute(\"SELECT * FROM evento WHERE id = ?\",(id))#executando id da tabela evento\n",
    "    eventos1 = cur.fetchall()\n",
    "    if len(eventos1) > 0:#criando condição para verificar lista criada\n",
    "        #executando a remoçao do evento\n",
    "        cur.execute(sql_delete_evento,id)\n",
    "        #gravando alterações\n",
    "        con.commit()\n",
    "        #fechando documento\n",
    "        return True \n",
    "    else: \n",
    "        print('Id não encontrada.')\n",
    "        return False \n",
    "    \n",
    "opcao = \"SIM\"# criando laço para remoção do evento\n",
    "while opcao == \"SIM\":\n",
    "    if opcao == \"SIM\":\n",
    "        idEvento = int(input(' Digite o Id do evento que quer remover '))#pedindo ao usuario id do dado a ser removido\n",
    "        if agenda_remover_evento([idEvento]):#se o evento for encontrado será removido da tabela evento pelo id\n",
    "            print(f' Id= {idEvento} removido.')\n",
    "        opcao = str(input('Deseja remover mais eventos? Digite sim ou nao : ')).upper()\n",
    "            \n",
    "    else:\n",
    "        print('Registros alterados.')\n",
    "cur.execute('''select* from evento''')\n",
    "for resultado in cur.fetchall():\n",
    "    print(\"Id:{0:15} Data: {1:10} Hora: {2:5} Duração: {3} Descrição: {4}\".format(*resultado))"
   ]
  },
  {
   "cell_type": "markdown",
   "metadata": {},
   "source": [
    "### Questão 5\n",
    "Escreva uma função Python chamada `agenda_modificar_evento()`, que será usada para modificar eventos na agenda, e deverá\n",
    "receber cinco parâmetros:\n",
    "1. `id`: o id do evento\n",
    "2. `data`: a data do evento, sendo um `string` no formato `YYYY-MM-DD`, onde `YYYY`=ano, `MM`=mês e `DD`=dia\n",
    "3. `hora`: a hora do evento, sendo um `string` no formato `HH:MM`, onde `HH`=hora em forma 24h, `MM`=minutos\n",
    "4. `duracao_min`: número inteiro que define a duração do evento e minutos\n",
    "5. `descricao`: a descrição do evento\n",
    "\n",
    "**APENAS o parâmetro `id`** deverá ser obrigatório, os demais deverão ser opcionais (ou seja, terão o valor\n",
    "prédefinido `None`).\n",
    "\n",
    "O evento correspondente ao `id` passado deverá ser selecionado com uso da sentença presente na variável\n",
    "`sql_select_evento_id`. Se a execução da sentença não retornar nenhum registro, nada deve ser feito e a função\n",
    "poderá terminar.\n",
    "\n",
    "A sentença presente na variável `sql_update_evento` deverá ser utilizada para promover a alteração do registro\n",
    "recuperado. **APENAS** os campos da tabela correspondentes aos parâmetros com valores **diferentes** de `None` deverão\n",
    "ser modificados. Para parâmetro passados com o valor `None`, os campos correspondentes devem manter seus valores\n",
    "inalterados.\n",
    "\n",
    "Após declarar a função faça algumas chamadas **(ao menos duas)** para alterar alguns campos (**NÃO** todos) de alguns eventos de alguns dias. Caso queira recomenda-se usar a mesma dica da Questão 4."
   ]
  },
  {
   "cell_type": "code",
   "execution_count": 10,
   "metadata": {},
   "outputs": [
    {
     "name": "stdout",
     "output_type": "stream",
     "text": [
      "[(2, '2022-01-01', '23:59', 1440, 'Ano novo')]\n",
      "[(2, '2021-09-07', '00:00', 1440, 'Indepencia do Brasil')]\n",
      "[(3, '2022-02-20', '00:00', 1440, 'Aniversário')]\n",
      "[(3, '2022-11-21', '14:00', 90, 'Inicio da Copa do Mundo')]\n",
      "Id:    1 Data: 2021-12-25 Hora: 23:59 Duração: 60 Descrição: Natal com a familia\n",
      "Id:    2 Data: 2021-09-07 Hora: 00:00 Duração: 1440 Descrição: Indepencia do Brasil\n",
      "Id:    3 Data: 2022-11-21 Hora: 14:00 Duração: 90 Descrição: Inicio da Copa do Mundo\n"
     ]
    }
   ],
   "source": [
    "# Sentenças para exclusão no BD\n",
    "sql_select_evento_id = '''\n",
    "SELECT id, data, hora, duracao_min, descricao FROM evento\n",
    "WHERE id=?\n",
    "'''\n",
    "\n",
    "sql_update_evento = '''\n",
    "UPDATE evento\n",
    "   SET data=?, hora=?, duracao_min=?, descricao=?\n",
    "WHERE id=?\n",
    "'''\n",
    "\n",
    "\n",
    "# Escreva a resposta da questão 5 NESTA célula, nas linhas abaixo\n",
    "def agenda_modificar_evento(idEvento, data = None, hora = None, duracao_min = None, descricao = None):\n",
    "    cur.execute(sql_select_evento_id,[idEvento])#executando a tabela incluindo antes da alteração\n",
    "    evento = cur.fetchall()\n",
    "    print(evento)\n",
    "    if data == None:# criando condiçoes para alteração de dados da tabela\n",
    "        data = evento[0][1]\n",
    "    if hora == None:\n",
    "        hora = evento[0][2]    \n",
    "    if duracao_min == None:\n",
    "        duracao_min = evento[0][3]\n",
    "    if descricao == None:\n",
    "        descricao = evento[0][4]\n",
    "    #executando tabela recebendo registros\n",
    "    cur.execute(sql_update_evento,(data, hora, duracao_min, descricao, idEvento))\n",
    "    #gravando as alterções\n",
    "    con.commit()\n",
    "    cur.execute(sql_select_evento_id,[idEvento])#executando a tabela adicionando o novo evento \n",
    "    evento = cur.fetchall()\n",
    "    print(evento)\n",
    "    \n",
    "    \n",
    "    \n",
    "# Novos eventos\n",
    "agenda_modificar_evento(2,'2021-09-07', '00:00',1440 ,'Indepencia do Brasil')\n",
    "agenda_modificar_evento(3,'2022-11-21', '14:00',90,'Inicio da Copa do Mundo')\n",
    "cur.execute('''select* from evento''')\n",
    "for resultado in cur.fetchall():\n",
    "    print(\"Id:{0:5} Data: {1:10} Hora: {2:5} Duração: {3} Descrição: {4}\".format(*resultado))\n",
    "#fechando documento\n",
    "con.close()"
   ]
  },
  {
   "cell_type": "code",
   "execution_count": null,
   "metadata": {},
   "outputs": [],
   "source": []
  }
 ],
 "metadata": {
  "kernelspec": {
   "display_name": "Python 3",
   "language": "python",
   "name": "python3"
  },
  "language_info": {
   "codemirror_mode": {
    "name": "ipython",
    "version": 3
   },
   "file_extension": ".py",
   "mimetype": "text/x-python",
   "name": "python",
   "nbconvert_exporter": "python",
   "pygments_lexer": "ipython3",
   "version": "3.6.5"
  }
 },
 "nbformat": 4,
 "nbformat_minor": 5
}
