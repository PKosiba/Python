{
 "cells": [
  {
   "cell_type": "code",
   "execution_count": 1,
   "id": "ac7d74f9",
   "metadata": {},
   "outputs": [
    {
     "name": "stderr",
     "output_type": "stream",
     "text": [
      "C:\\Users\\paulo\\AppData\\Local\\Temp\\ipykernel_10300\\3996570800.py:8: DeprecationWarning: executable_path has been deprecated, please pass in a Service object\n",
      "  navegador = webdriver.Chrome(\"chromedriver.exe\")#Abrir o Chromedriver para usar  o Chrome\n"
     ]
    }
   ],
   "source": [
    "from selenium import webdriver\n",
    "from selenium.webdriver.common.keys import Keys\n",
    "from selenium.webdriver.common.by import By\n",
    "import pyautogui as teclado#Controle de teclado\n",
    "\n",
    "import time #Tempo\n",
    "\n",
    "navegador = webdriver.Chrome(\"chromedriver.exe\")#Abrir o Chromedriver para usar  o Chrome"
   ]
  },
  {
   "cell_type": "code",
   "execution_count": 2,
   "id": "6f893279",
   "metadata": {},
   "outputs": [
    {
     "name": "stdout",
     "output_type": "stream",
     "text": [
      "['paulo.kosiba', 'UFPR_pe2020', 'dra.patriciadominico', '#Bioest2022']\n"
     ]
    }
   ],
   "source": [
    "#abrir arquivo txt\n",
    "with open(\"Login.txt\", \"r\") as login:\n",
    "    usuario = login.read().split(',')#separa os itens\n",
    "print (usuario)"
   ]
  },
  {
   "cell_type": "code",
   "execution_count": 3,
   "id": "529a643a",
   "metadata": {},
   "outputs": [],
   "source": [
    "#entrar no Instagram\n",
    "def inicial():\n",
    "    navegador.get('https://www.instagram.com/')\n",
    "    time.sleep(3)\n",
    "    #Login\n",
    "    def login():\n",
    "        #usuario\n",
    "        xpath = '//*[@id=\"loginForm\"]/div/div[1]/div/label/input'\n",
    "        navegador.find_element(by=By.XPATH, value=xpath).send_keys(usuario[0])\n",
    "        time.sleep(1)\n",
    "        #senha\n",
    "        xpath = '//*[@id=\"loginForm\"]/div/div[2]/div/label/input'\n",
    "        navegador.find_element(by=By.XPATH, value=xpath).send_keys(usuario[1])\n",
    "        #enter\n",
    "        teclado.press('ENTER')\n",
    "        time.sleep(5)\n",
    "\n",
    "    login()\n",
    "inicial()"
   ]
  },
  {
   "cell_type": "code",
   "execution_count": 4,
   "id": "7a847c23",
   "metadata": {},
   "outputs": [
    {
     "name": "stdout",
     "output_type": "stream",
     "text": [
      "https://www.instagram.com/academia.viva/\n"
     ]
    }
   ],
   "source": [
    "#abrir arquivo txt com o Link referencia\n",
    "with open(\"link.txt\", \"r\") as login:\n",
    "    link = login.read().split(',')\n",
    "print (link[0])"
   ]
  },
  {
   "cell_type": "code",
   "execution_count": 5,
   "id": "1378600a",
   "metadata": {},
   "outputs": [
    {
     "name": "stdout",
     "output_type": "stream",
     "text": [
      "https://www.instagram.com/academia.viva/\n"
     ]
    }
   ],
   "source": [
    "def redirecionar():\n",
    "    with open(\"link.txt\", \"r\") as login: #Abre o arquivo com link referencia\n",
    "        link = login.read().split(',')#separa cada link por virgula\n",
    "    print (link[0])\n",
    "    time.sleep(2)\n",
    "    navegador.get(link[0]) #faz a solicitação para o serviço\n",
    "redirecionar()"
   ]
  },
  {
   "cell_type": "code",
   "execution_count": 7,
   "id": "cc8fb7cf",
   "metadata": {},
   "outputs": [],
   "source": [
    "def seguidores():\n",
    "    time.sleep(4)\n",
    "    #Clica no botão referencia -> seguidores XPATH\n",
    "    seguidores = navegador.find_element(by=By.XPATH, value='/html/body/div[1]/div/div/div/div[1]/div/div/div/div[1]/div[2]/div[2]/section/main/div/header/section/ul/li[2]/a/div').click()\n",
    "seguidores()"
   ]
  },
  {
   "cell_type": "code",
   "execution_count": 8,
   "id": "e2ad70ba",
   "metadata": {},
   "outputs": [
    {
     "ename": "KeyboardInterrupt",
     "evalue": "",
     "output_type": "error",
     "traceback": [
      "\u001b[1;31m---------------------------------------------------------------------------\u001b[0m",
      "\u001b[1;31mKeyboardInterrupt\u001b[0m                         Traceback (most recent call last)",
      "Input \u001b[1;32mIn [8]\u001b[0m, in \u001b[0;36m<cell line: 41>\u001b[1;34m()\u001b[0m\n\u001b[0;32m     39\u001b[0m time\u001b[38;5;241m.\u001b[39msleep(\u001b[38;5;241m2\u001b[39m)\n\u001b[0;32m     40\u001b[0m teclado\u001b[38;5;241m.\u001b[39mpress(\u001b[38;5;124m'\u001b[39m\u001b[38;5;124mEND\u001b[39m\u001b[38;5;124m'\u001b[39m)\n\u001b[1;32m---> 41\u001b[0m \u001b[43mtime\u001b[49m\u001b[38;5;241;43m.\u001b[39;49m\u001b[43msleep\u001b[49m\u001b[43m(\u001b[49m\u001b[38;5;241;43m2\u001b[39;49m\u001b[43m)\u001b[49m   \n\u001b[0;32m     42\u001b[0m teclado\u001b[38;5;241m.\u001b[39mpress(\u001b[38;5;124m'\u001b[39m\u001b[38;5;124mEND\u001b[39m\u001b[38;5;124m'\u001b[39m)\n\u001b[0;32m     43\u001b[0m time\u001b[38;5;241m.\u001b[39msleep(\u001b[38;5;241m2\u001b[39m)\n",
      "\u001b[1;31mKeyboardInterrupt\u001b[0m: "
     ]
    }
   ],
   "source": [
    "time.sleep(2)\n",
    "teclado.press('TAB')\n",
    "time.sleep(2)\n",
    "teclado.press('TAB')\n",
    "time.sleep(2)\n",
    "teclado.press('END')\n",
    "time.sleep(2)\n",
    "teclado.press('END')\n",
    "time.sleep(2)\n",
    "teclado.press('END')\n",
    "time.sleep(2)\n",
    "teclado.press('END')\n",
    "time.sleep(2)\n",
    "teclado.press('END')\n",
    "time.sleep(2)\n",
    "teclado.press('END')\n",
    "time.sleep(2)\n",
    "teclado.press('END')\n",
    "time.sleep(2)\n",
    "teclado.press('END')\n",
    "time.sleep(2)\n",
    "teclado.press('END')\n",
    "time.sleep(2)\n",
    "teclado.press('END')\n",
    "time.sleep(2)\n",
    "teclado.press('END')\n",
    "time.sleep(2)\n",
    "teclado.press('END')\n",
    "time.sleep(2)\n",
    "teclado.press('END')\n",
    "time.sleep(2)\n",
    "teclado.press('END')\n",
    "time.sleep(2)\n",
    "teclado.press('END')\n",
    "time.sleep(2)\n",
    "teclado.press('END')\n",
    "time.sleep(2)\n",
    "teclado.press('END')\n",
    "time.sleep(2)\n",
    "teclado.press('END')\n",
    "time.sleep(2)   \n",
    "teclado.press('END')\n",
    "time.sleep(2)\n",
    "teclado.press('END')\n",
    "time.sleep(2)\n",
    "teclado.press('END')\n",
    "time.sleep(2)   \n",
    "teclado.press('END')\n",
    "time.sleep(2)\n",
    "teclado.press('END')\n",
    "time.sleep(2)\n",
    "teclado.press('END')\n",
    "time.sleep(2)\n",
    "teclado.press('END')\n",
    "time.sleep(2)\n",
    "teclado.press('END')\n",
    "time.sleep(2)\n",
    "teclado.press('END')"
   ]
  },
  {
   "cell_type": "code",
   "execution_count": 9,
   "id": "071175d8",
   "metadata": {},
   "outputs": [
    {
     "name": "stdout",
     "output_type": "stream",
     "text": [
      "['https://www.instagram.com/schwinn.fitness/ ', 'https://www.instagram.com/igor.mms/ ', 'https://www.instagram.com/sandravic64/ ', 'https://www.instagram.com/joelma.trindadedelima/ ', 'https://www.instagram.com/estelita.maris.39/ ', 'https://www.instagram.com/daniel_ramos2.4/ ', 'https://www.instagram.com/justrun.vivaemmovimento/ ', 'https://www.instagram.com/yas_faverovz/ ', 'https://www.instagram.com/priscilapereiramolina/ ', 'https://www.instagram.com/cirlandia34/ ', 'https://www.instagram.com/rossettoel/ ', 'https://www.instagram.com/jaquelineklembada/ ', 'https://www.instagram.com/lauraazxp/ ', 'https://www.instagram.com/je.lev/ ', 'https://www.instagram.com/cirurgicabrasil/ ', 'https://www.instagram.com/pedroalbertod/ ', 'https://www.instagram.com/andreia_machado_live/ ', 'https://www.instagram.com/buenoinsta/ ', 'https://www.instagram.com/moisesnoronha/ ', 'https://www.instagram.com/chandelieriara/ ', 'https://www.instagram.com/evyaalves/ ', 'https://www.instagram.com/doris_veiga_/ ', 'https://www.instagram.com/tortellialencarjose/ ', 'https://www.instagram.com/julietecordeirolealdelima/ ', 'https://www.instagram.com/imoveis.cwb_/ ', 'https://www.instagram.com/gilmaramelo/ ', 'https://www.instagram.com/dra.renata.otorrino/ ', 'https://www.instagram.com/cesinha_kakrovia/ ', 'https://www.instagram.com/arimo.oficial/ ', 'https://www.instagram.com/pattyfagundes85/ ', 'https://www.instagram.com/lucassevenfight/ ', 'https://www.instagram.com/evertonatendimentoemacademias/ ', 'https://www.instagram.com/magaligalastripersonal/ ', 'https://www.instagram.com/karutavares/ ', 'https://www.instagram.com/rosegarcia_boutique/ ', 'https://www.instagram.com/evolutesports/ ', 'https://www.instagram.com/revivaeducacaofisica/ ', 'https://www.instagram.com/iraci1453/ ', 'https://www.instagram.com/wilsoncast_/ ', 'https://www.instagram.com/guisantosoficial/ ', 'https://www.instagram.com/oi.luanaaa/ ', 'https://www.instagram.com/kleyton_barth/ ', 'https://www.instagram.com/thiagoemagrecasemdor/ ', 'https://www.instagram.com/lil.andretta/ ', 'https://www.instagram.com/renovagrass33/ ', 'https://www.instagram.com/larissawarnavin/ ', 'https://www.instagram.com/anaenesteixeira/ ', 'https://www.instagram.com/bmitkoski/ ', 'https://www.instagram.com/larissacavalheiro.orto/ ', 'https://www.instagram.com/elainesalamone/ ', 'https://www.instagram.com/mari_ngbara/ ', 'https://www.instagram.com/janainaschultz/ ', 'https://www.instagram.com/manoelramires/ ', 'https://www.instagram.com/victoriambugan/ ', 'https://www.instagram.com/nairellepersonal/ ', 'https://www.instagram.com/wactawskianaclaudia/ ', 'https://www.instagram.com/vini_sasaki/ ', 'https://www.instagram.com/luizaalabarce/ ', 'https://www.instagram.com/anapaulasoprano.br/ ', 'https://www.instagram.com/eduarsie7/ ', 'https://www.instagram.com/saboiamariacristina/ ', 'https://www.instagram.com/lahcastelli/ ', 'https://www.instagram.com/fer_caroli/ ', 'https://www.instagram.com/profjulianomaciel_adv/ ', 'https://www.instagram.com/ago.arthur/ ', 'https://www.instagram.com/rafael__oliveira__/ ', 'https://www.instagram.com/carla.paz.39108/ ', 'https://www.instagram.com/celia_janke/ ', 'https://www.instagram.com/anavictoria.gomes1/ ', 'https://www.instagram.com/pastorafatimarodrigues10/ ', 'https://www.instagram.com/alanaplucinski/ ', 'https://www.instagram.com/julio_carlos_jj/ ', 'https://www.instagram.com/honorio.delaiglesia/ ', 'https://www.instagram.com/jessicabcespedes/ ', 'https://www.instagram.com/biancasantosgomesss/ ', 'https://www.instagram.com/jessicareis749/ ', 'https://www.instagram.com/kamylatango/ ', 'https://www.instagram.com/francieligouveia_/ ', 'https://www.instagram.com/dioniziaduarte/ ', 'https://www.instagram.com/modafitness_kl/ ', 'https://www.instagram.com/prisousali/ ', 'https://www.instagram.com/alrecomercial/ ', 'https://www.instagram.com/custodiomariafernanda/ ', 'https://www.instagram.com/mscultetus/ ', 'https://www.instagram.com/junior.mendesss/ ', 'https://www.instagram.com/rosacabraldasilva/ ', 'https://www.instagram.com/anaosiecki/ ', 'https://www.instagram.com/antunes_vacasagrande/ ', 'https://www.instagram.com/danielfonseca1808/ ', 'https://www.instagram.com/jurazini/ ', 'https://www.instagram.com/re_mader/ ', 'https://www.instagram.com/paulamarques8769/ ', 'https://www.instagram.com/ingrid.tairyne/ ', 'https://www.instagram.com/modas_ftnessbylli/ ', 'https://www.instagram.com/anac_felten/ ', 'https://www.instagram.com/rafasorgenfrei/ ', 'https://www.instagram.com/wedo.fit/ ', 'https://www.instagram.com/fitnesaudequilibrio/ ', 'https://www.instagram.com/camila_terada/ ', 'https://www.instagram.com/manon_cwb/ ', 'https://www.instagram.com/annajpacheco_/ ', 'https://www.instagram.com/eliastocarski/ ', 'https://www.instagram.com/brun_otrainer/ ', 'https://www.instagram.com/monalizacc/ ', 'https://www.instagram.com/hstrapa/ ', 'https://www.instagram.com/prof_paulo_puga_/ ', 'https://www.instagram.com/fmidian/ ', 'https://www.instagram.com/yaraiglesia/ ', 'https://www.instagram.com/anapaula.s.barros/ ', 'https://www.instagram.com/danyferreiracorrea/ ', 'https://www.instagram.com/rusneidadueti/ ', 'https://www.instagram.com/carol_mkos/ ', 'https://www.instagram.com/gymsolutionsconsultoria/ ', 'https://www.instagram.com/studioarraialfitness/ ', 'https://www.instagram.com/ju_graminho/ ', 'https://www.instagram.com/rogerioabdalla_brasil/ ', 'https://www.instagram.com/carla.a.rodrigues/ ', 'https://www.instagram.com/danielercxavier/ ', 'https://www.instagram.com/carol_leticia/ ', 'https://www.instagram.com/akmoscuritibapr/ ', 'https://www.instagram.com/doc_gustavo_rocha/ ', 'https://www.instagram.com/gabimaito_/ ', 'https://www.instagram.com/ma.dolinski/ ', 'https://www.instagram.com/energiamaximasuplementos/ ', 'https://www.instagram.com/wagnertabordaa/ ', 'https://www.instagram.com/dritakiguti/ ', 'https://www.instagram.com/fabianadabeleza/ ', 'https://www.instagram.com/cutflames/ ', 'https://www.instagram.com/marioscevola/ ', 'https://www.instagram.com/amandacsilvestre/ ', 'https://www.instagram.com/raquel.proenca.123/ ', 'https://www.instagram.com/julianajessrocha/ ', 'https://www.instagram.com/najararegina23/ ', 'https://www.instagram.com/institutotratabatel/ ', 'https://www.instagram.com/daedracwb/ ', 'https://www.instagram.com/ncgaleazzi/ ', 'https://www.instagram.com/viviane_helena_kuntz/ ', 'https://www.instagram.com/the_naturalbodybuilding/ ', 'https://www.instagram.com/bianvito.massoterapia/ ', 'https://www.instagram.com/jessykasilva__/ ', 'https://www.instagram.com/renatinha.biker/ ', 'https://www.instagram.com/biaa.mn/ ', 'https://www.instagram.com/adrianaadami22/ ', 'https://www.instagram.com/teresinha.v.ribeiro/ ', 'https://www.instagram.com/dianaluminishida/ ', 'https://www.instagram.com/elzacornel/ ', 'https://www.instagram.com/combahamas/ ', 'https://www.instagram.com/bodylaser.shoppingcuritiba2/ ', 'https://www.instagram.com/rebeccaruizpr/ ', 'https://www.instagram.com/mi_izar/ ', 'https://www.instagram.com/maxmarquesfit/ ', 'https://www.instagram.com/ricardomfvale/ ', 'https://www.instagram.com/gabemarcs/ ', 'https://www.instagram.com/piapatetico/ ', 'https://www.instagram.com/evertonrodrigo79/ ', 'https://www.instagram.com/cer_tifica/ ', 'https://www.instagram.com/leticiaf_c/ ', 'https://www.instagram.com/marciaborges7081/ ', 'https://www.instagram.com/mari.c.lara/ ', 'https://www.instagram.com/ritualltattoocuritiba/ ', 'https://www.instagram.com/_jefgabriel/ ', 'https://www.instagram.com/wagnereder/ ', 'https://www.instagram.com/ka.assumpcao/ ', 'https://www.instagram.com/ferreira_jamille/ ', 'https://www.instagram.com/silvia_felten/ ', 'https://www.instagram.com/ataise_pereira/ ', 'https://www.instagram.com/elianaoli18/ ', 'https://www.instagram.com/chefjanalivoni/ ', 'https://www.instagram.com/pr_wesley_soares/ ', 'https://www.instagram.com/victor.ruggeri/ ', 'https://www.instagram.com/marco.assef/ ', 'https://www.instagram.com/rosasdesal/ ', 'https://www.instagram.com/gustavo.tafner/ ', 'https://www.instagram.com/profjhesica/ ', 'https://www.instagram.com/igorlara.bar/ ', 'https://www.instagram.com/pedroosoares_/ ', 'https://www.instagram.com/samarakajevski/ ', 'https://www.instagram.com/fofuras_da_rai/ ', 'https://www.instagram.com/cristianede854/ ', 'https://www.instagram.com/ricardo_moura_agro/ ', 'https://www.instagram.com/julianafariassutil/ ', 'https://www.instagram.com/ericaa_bressan/ ', 'https://www.instagram.com/urbanskimariaines/ ', 'https://www.instagram.com/felipe.fecon/ ', 'https://www.instagram.com/estercruztete/ ', 'https://www.instagram.com/vanee_tavares/ ', 'https://www.instagram.com/makeupfernandaabreu/ ', 'https://www.instagram.com/danichupel/ ', 'https://www.instagram.com/julianoggodoy/ ', 'https://www.instagram.com/beth_marrtinelli/ ', 'https://www.instagram.com/pituco77/ ', 'https://www.instagram.com/camargo_volnei/ ', 'https://www.instagram.com/cs_lifestyle_/ ', 'https://www.instagram.com/yvyfn.rck/ ', 'https://www.instagram.com/renataraut/ ', 'https://www.instagram.com/_brunomb/ ', 'https://www.instagram.com/vivivpds/ ', 'https://www.instagram.com/adalyv/ ', 'https://www.instagram.com/florescer_moda_intima/ ', 'https://www.instagram.com/paulinezanon/ ', 'https://www.instagram.com/rosangela.kafer/ ', 'https://www.instagram.com/laari_santos1/ ', 'https://www.instagram.com/confianodindo/ ', 'https://www.instagram.com/terezinhatortelli/ ', 'https://www.instagram.com/raquelns_arantes/ ', 'https://www.instagram.com/ericaiasmini/ ', 'https://www.instagram.com/brunna_emyly/ ', 'https://www.instagram.com/sara.ju40/ ', 'https://www.instagram.com/boxsports_performance_store/ ', 'https://www.instagram.com/luzy_unhas15/ ', 'https://www.instagram.com/pat.ricia6708/ ', 'https://www.instagram.com/rozanepimentel1/ ', 'https://www.instagram.com/rayfernandoalves/ ', 'https://www.instagram.com/katriribeiro/ ']\n"
     ]
    }
   ],
   "source": [
    "link_cliente=[]\n",
    "def p_cliente():\n",
    "    cliente = navegador.find_elements(by=By.TAG_NAME, value = 'a') #pega tudo que tem link\n",
    "    \n",
    "    for e in cliente: #para cada item na lista de links\n",
    "        link = e.get_attribute('href') #pega o atributo href \n",
    "        link_cliente.append(link + ' ') #adiciona o href ao 'link_cliente' e um espaço\n",
    "        \n",
    "    del link_cliente[0:53]    #Exclui os itens 0 a 53\n",
    "    lista_sem_repeticao = list(set(link_cliente)) #Usar o set para retirar os repetidos e o list para colocar novamente em lista\n",
    "    print(lista_sem_repeticao)\n",
    "\n",
    "    with open('local.txt','w') as arquivo:\n",
    "        arquivo.writelines(lista_sem_repeticao)\n",
    "    arquivo.close()\n",
    "    \n",
    "p_cliente()"
   ]
  },
  {
   "cell_type": "code",
   "execution_count": 10,
   "id": "e271866a",
   "metadata": {},
   "outputs": [],
   "source": [
    "i=0 #deixa fora do 'for' pra caso de erro siga sem atrapalhar o 'i'"
   ]
  },
  {
   "cell_type": "code",
   "execution_count": 11,
   "id": "bff69c05",
   "metadata": {},
   "outputs": [
    {
     "name": "stdout",
     "output_type": "stream",
     "text": [
      "https://www.instagram.com/schwinn.fitness/\n",
      "https://www.instagram.com/igor.mms/\n",
      "https://www.instagram.com/sandravic64/\n",
      "https://www.instagram.com/joelma.trindadedelima/\n"
     ]
    },
    {
     "ename": "KeyboardInterrupt",
     "evalue": "",
     "output_type": "error",
     "traceback": [
      "\u001b[1;31m---------------------------------------------------------------------------\u001b[0m",
      "\u001b[1;31mKeyboardInterrupt\u001b[0m                         Traceback (most recent call last)",
      "Input \u001b[1;32mIn [11]\u001b[0m, in \u001b[0;36m<cell line: 1>\u001b[1;34m()\u001b[0m\n\u001b[0;32m      3\u001b[0m \u001b[38;5;28;01mfor\u001b[39;00m e \u001b[38;5;129;01min\u001b[39;00m usuario:\n\u001b[0;32m      4\u001b[0m     navegador\u001b[38;5;241m.\u001b[39mget(usuario[i])\n\u001b[1;32m----> 5\u001b[0m     \u001b[43mtime\u001b[49m\u001b[38;5;241;43m.\u001b[39;49m\u001b[43msleep\u001b[49m\u001b[43m(\u001b[49m\u001b[38;5;241;43m3\u001b[39;49m\u001b[43m)\u001b[49m\n\u001b[0;32m      6\u001b[0m     \u001b[38;5;28mprint\u001b[39m(usuario[i])\n\u001b[0;32m      7\u001b[0m     link\u001b[38;5;241m.\u001b[39mwrite(usuario[i])\n",
      "\u001b[1;31mKeyboardInterrupt\u001b[0m: "
     ]
    }
   ],
   "source": [
    "with open(\"local.txt\", \"r+\") as link:\n",
    "    usuario = link.read().split(' ')\n",
    "    for e in usuario:\n",
    "        navegador.get(usuario[i])\n",
    "        time.sleep(3)\n",
    "        print(usuario[i])\n",
    "        link.write(usuario[i])\n",
    "        i=i+1\n",
    "        desbloqueado = navegador.find_element(by=By.TAG_NAME, value = 'button') #procura o botão   \n",
    "        # se o cliente for desbloqueado terá \"Enviar mensagem\"\n",
    "        if desbloqueado.text == 'Enviar mensagem': \n",
    "            def enviarmensagem():\n",
    "                time.sleep(1)\n",
    "\n",
    "                with open('ultimo.txt','a') as ultimo: #abre o arquivo ultimo.txt e atribui como 'ultimo'\n",
    "                    ultimo.writelines(usuario[i-1]+ ' ') #adiciona o link -1 pq o +1 está em cima\n",
    "                ultimo.close()#fecha o arquivo ultimo\n",
    "                time.sleep(5) \n",
    "                #mensagem_salva()                   \n",
    "            enviarmensagem()\n",
    "    "
   ]
  },
  {
   "cell_type": "code",
   "execution_count": null,
   "id": "17ecc21e",
   "metadata": {},
   "outputs": [],
   "source": [
    "def mensagem_salva():\n",
    "    time.sleep(3)\n",
    "    teclado.keyDown('ctrl')\n",
    "    teclado.press(['v'])\n",
    "    teclado.keyUp('ctrl')\n",
    "    time.sleep(2)\n",
    "    teclado.press('enter')\n",
    "    print('mensagem')"
   ]
  },
  {
   "cell_type": "code",
   "execution_count": null,
   "id": "c6c6d55d",
   "metadata": {},
   "outputs": [],
   "source": [
    "i=0"
   ]
  },
  {
   "cell_type": "code",
   "execution_count": null,
   "id": "57ec623e",
   "metadata": {},
   "outputs": [],
   "source": [
    "with open(\"ultimo.txt\", \"r\") as link:\n",
    "    usuario_liberado = link.read().split(' ')\n",
    "    for e in usuario_liberado:\n",
    "        navegador.get(usuario_liberado[i])\n",
    "        enviar_mensagem = navegador.find_element(By.CLASS_NAME, \"_aacl._aaco._aacw._aacx._aada._aade\").click()\n",
    "        time.sleep(4)\n",
    "        mensagem_salva()\n",
    "        print(usuario_liberado[i])\n",
    "        i=i+1"
   ]
  },
  {
   "cell_type": "code",
   "execution_count": null,
   "id": "bf97747a",
   "metadata": {},
   "outputs": [],
   "source": [
    "Olá, tudo bem? 💖\n",
    "Me chamo Paula e sou da equipe da Clínica Dra. Patrícia Dominico, nosso objetivo e dedicação é para realçar ainda mais a sua beleza ✨ \n",
    "\n",
    "Estamos localizados na Fagundes Varelas (Jardim Social, Curitiba/PR)\n",
    "\n",
    "Somos especialistas em:\n",
    "- Botox (para suas rugas e linhas de expressão);💉\n",
    "- Glúteo Máx (para flacidez, celulite e também volumização do seu bumbum);🍑\n",
    "- Lipo Enzimática (para reduzir a tão indesejada gordurinha);📏\n",
    "- Bioestimulador de Colágeno (para deixar sua pele mais firme e jovem);💆🏻‍♀️\n",
    "- Celulite, Perda de peso, Estrias e Redução de Culote.📐\n",
    "\n",
    "Que tal você conhecer um pouco mais do nosso trabalho e agendarmos uma avaliação para ficar ainda mais linda para o verão? ☀️💖\n",
    "\n",
    "Qualquer dúvida estamos à disposição! ✨\n",
    "\n",
    "https://www.instagram.com/dra.patriciadominico/\n",
    "\n",
    "https://drapatriciadominico.com.br/\n",
    "\n",
    "💖Siga nossa página e fique por dentro das novidades 💖"
   ]
  },
  {
   "cell_type": "code",
   "execution_count": null,
   "id": "5bade38c",
   "metadata": {},
   "outputs": [],
   "source": [
    "❤️‍🔥🖤ESQUENTA BLACK CLÍNICA DRA. PATRÍCIA DOMINICO🖤❤️‍🔥\n",
    "\n",
    "Aproveite nossos descontos para cuidar de quem realmente importa, você!\n",
    "Localizado aqui no Jardim Social. Nossos tratamentos incluem:\n",
    "\n",
    "💣Bioestimulador de Colágeno💣\n",
    "Pele sem flacidez é pele com bioestimulação!\n",
    "\n",
    "10x de 89,00😱\n",
    "\n",
    "🖤Preenchimento💣\n",
    "O poder do Ácido Hialurônico!\n",
    "\n",
    "10x de 85,00😱\n",
    "\n",
    "💣Tratamento para Olheiras💣\n",
    "Cara de cansada? Nunca mais!\n",
    "\n",
    "395,00 (5 sessões)😱\n",
    "\n",
    "💣Botox💣\n",
    "A única toxina que você precisa na sua vida, é o botox!\n",
    "\n",
    "A partir de 299,00 (a região)😱\n",
    "\n",
    "💣Tratamento para Gordura Localizada 💣\n",
    "Adeus gordurinhas indesejadas!\n",
    "\n",
    "499,00 (5 sessões)😱\n",
    "\n",
    "💣Glúteo Máx+Fortalecimento💣\n",
    "A fórmula perfeita para o seu bumbum!\n",
    "\n",
    "999,00 (5 sessões de Glúteo Máx + 5 sessões de Fortalecimento)😱                                                                          \n",
    "\n",
    "💥Beleza que cabe no bolso!💥\n",
    "\n",
    "E você, está esperando o que para iniciar o seu tratamento?"
   ]
  }
 ],
 "metadata": {
  "kernelspec": {
   "display_name": "Python 3 (ipykernel)",
   "language": "python",
   "name": "python3"
  },
  "language_info": {
   "codemirror_mode": {
    "name": "ipython",
    "version": 3
   },
   "file_extension": ".py",
   "mimetype": "text/x-python",
   "name": "python",
   "nbconvert_exporter": "python",
   "pygments_lexer": "ipython3",
   "version": "3.10.5"
  }
 },
 "nbformat": 4,
 "nbformat_minor": 5
}
